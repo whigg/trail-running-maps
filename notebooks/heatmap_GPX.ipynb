{
 "cells": [
  {
   "cell_type": "markdown",
   "metadata": {},
   "source": [
    "**Goal:** represent the tracks downloaded from [Wikiloc](http://wikiloc.com/) or transformed into .gpx format from Garmin .fit files, using for example the [gpsbabel](http://www.gpsbabel.org/) tool."
   ]
  },
  {
   "cell_type": "code",
   "execution_count": null,
   "metadata": {
    "collapsed": false
   },
   "outputs": [],
   "source": [
    "import re\n",
    "import os\n",
    "import folium\n",
    "import glob\n",
    "import logging\n",
    "import numpy as np\n",
    "from geopy.geocoders import Nominatim\n",
    "from folium import plugins\n",
    "import matplotlib.pyplot as plt\n",
    "from matplotlib import colors"
   ]
  },
  {
   "cell_type": "code",
   "execution_count": null,
   "metadata": {
    "collapsed": false
   },
   "outputs": [],
   "source": [
    "print folium.__version__"
   ]
  },
  {
   "cell_type": "markdown",
   "metadata": {},
   "source": [
    "# User inputs"
   ]
  },
  {
   "cell_type": "markdown",
   "metadata": {},
   "source": [
    "Define the directory where the files are stored and where the html will be written."
   ]
  },
  {
   "cell_type": "code",
   "execution_count": null,
   "metadata": {
    "collapsed": false
   },
   "outputs": [],
   "source": [
    "region = 'Mallorca_all'\n",
    "gpxdir = '/home/ctroupin/DataOceano/GPX/'\n",
    "outputdir = '/home/ctroupin/public_html/LeafletMaps'\n",
    "mapname = region + '.html'\n",
    "gpxbasename = '*.gpx'\n",
    "gpxfilelist = sorted(glob.glob(os.path.join(gpxdir, gpxbasename)))"
   ]
  },
  {
   "cell_type": "markdown",
   "metadata": {},
   "source": [
    "Initialise the map"
   ]
  },
  {
   "cell_type": "code",
   "execution_count": null,
   "metadata": {
    "collapsed": false
   },
   "outputs": [],
   "source": [
    "import logging\n",
    "logger = logging.getLogger()\n",
    "fhandler = logging.FileHandler(filename='/home/ctroupin/logs/GPXheadmap.log', mode='a')\n",
    "formatter = logging.Formatter('%(asctime)s - %(name)s - %(levelname)s - %(message)s')\n",
    "fhandler.setFormatter(formatter)\n",
    "logger.addHandler(fhandler)\n",
    "logger.setLevel(logging.DEBUG)\n",
    "\n",
    "geolocator = Nominatim()\n",
    "location = geolocator.geocode(\"Lloret de Vistalegre, Mallorca, Spain\")\n",
    "#location = geolocator.geocode(\"Verviers, Belgique\")\n",
    "#location = geolocator.geocode(\"Gran Canaria, Spain\")\n",
    "logger.info(\"Working on location: %s\" %(location[0]))"
   ]
  },
  {
   "cell_type": "markdown",
   "metadata": {},
   "source": [
    "Function to read GPX"
   ]
  },
  {
   "cell_type": "code",
   "execution_count": null,
   "metadata": {
    "collapsed": false
   },
   "outputs": [],
   "source": [
    "def read_gpx(filename):\n",
    "    coords = []\n",
    "    with open(filename) as f:\n",
    "        for lines in f:\n",
    "            match = re.search('<trkpt lat=\"([-0-9\\.]+)\" lon=\"([-0-9\\.]+)\">', lines)\n",
    "            if match:\n",
    "                coords.append((float(match.group(1)), float(match.group(2))))\n",
    "    return coords"
   ]
  },
  {
   "cell_type": "code",
   "execution_count": null,
   "metadata": {
    "collapsed": false
   },
   "outputs": [],
   "source": [
    "def get_trackname(filename):\n",
    "    '''\n",
    "    Get the track name from a GPX file\n",
    "    '''\n",
    "    with open(filename) as f:\n",
    "        match = None\n",
    "        while match == None:\n",
    "            line = f.readline()\n",
    "            match = re.search('<name>(.+)</name>', line)\n",
    "            if match:\n",
    "                trackname = match.group(1)\n",
    "    return trackname"
   ]
  },
  {
   "cell_type": "code",
   "execution_count": null,
   "metadata": {
    "collapsed": true
   },
   "outputs": [],
   "source": [
    "def create_gradient(cb, ncolors):\n",
    "    '''\n",
    "    From a given matplotlib color palette, \n",
    "    provide a gradient dictionnary to be passed to \n",
    "    the heatmap function of folium\n",
    "    INPUTS: cb = matplotlib colormap\n",
    "            ncolors = number of colors\n",
    "    OUTPUT: gradient = dictionnary containing the color\n",
    "    '''\n",
    "    gradient = {}\n",
    "    for i, j in zip(np.linspace(0.5, 1.0, ncolors), np.linspace(0., cb.N-1, ncolors).astype('uint8')):\n",
    "        gradient[i] = colors.rgb2hex(cb.colors[j])\n",
    "    return gradient"
   ]
  },
  {
   "cell_type": "markdown",
   "metadata": {},
   "source": [
    "Loop on the files"
   ]
  },
  {
   "cell_type": "code",
   "execution_count": null,
   "metadata": {
    "collapsed": false
   },
   "outputs": [],
   "source": [
    "logger.info('Creating a new map')\n",
    "map_run = folium.Map(location=[location.latitude, location.longitude], \n",
    "                     zoom_start=10)\n",
    "iconurl = 'http://socib.es/users/ctroupin/LeafletMaps/glider.png'\n",
    "\n",
    "logger.info('Create gradient dictionnary')\n",
    "gradient = create_gradient(plt.cm.plasma, 10)\n",
    "coordsall = []\n",
    "logger.info('Loop on the GPX files')\n",
    "for gpxfiles in gpxfilelist:\n",
    "    logger.debug(gpxfiles)\n",
    "    #trackname = get_trackname(gpxfiles)\n",
    "    logger.debug(trackname)\n",
    "    coords = read_gpx(gpxfiles)\n",
    "    coordsall.append(coords)\n",
    "    #folium.PolyLine(coords, color=\"black\", weight=3).add_to(map_run)\n",
    "    #icon = folium.features.CustomIcon(iconurl, icon_size=(50, 50))\n",
    "    #folium.Marker(location=coords[0], popup=trackname).add_to(map_run)\n",
    "    \n",
    "coords2plot = [item for coords in coordsall for item in coords] \n",
    "folium.plugins.HeatMap(coords2plot, radius=7, blur=5, \n",
    "                       gradient=gradient).add_to(map_run)\n",
    "map_run"
   ]
  },
  {
   "cell_type": "code",
   "execution_count": null,
   "metadata": {
    "collapsed": false
   },
   "outputs": [],
   "source": [
    "if not(os.path.exists(outputdir)):\n",
    "    os.makedirs(outputdir)\n",
    "    logging.info('Creating directory %s' %(outputdir))\n",
    "map_run.save(os.path.join(outputdir, mapname))"
   ]
  },
  {
   "cell_type": "code",
   "execution_count": null,
   "metadata": {
    "collapsed": false
   },
   "outputs": [],
   "source": [
    "gpxfiles"
   ]
  },
  {
   "cell_type": "code",
   "execution_count": null,
   "metadata": {
    "collapsed": true
   },
   "outputs": [],
   "source": []
  }
 ],
 "metadata": {
  "kernelspec": {
   "display_name": "Python 2",
   "language": "python",
   "name": "python2"
  },
  "language_info": {
   "codemirror_mode": {
    "name": "ipython",
    "version": 2
   },
   "file_extension": ".py",
   "mimetype": "text/x-python",
   "name": "python",
   "nbconvert_exporter": "python",
   "pygments_lexer": "ipython2",
   "version": "2.7.3"
  }
 },
 "nbformat": 4,
 "nbformat_minor": 0
}
