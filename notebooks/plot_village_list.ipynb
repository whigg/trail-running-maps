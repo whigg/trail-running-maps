{
 "cells": [
  {
   "cell_type": "code",
   "execution_count": 1,
   "metadata": {
    "collapsed": false
   },
   "outputs": [],
   "source": [
    "import re\n",
    "import os\n",
    "import folium\n",
    "import glob\n",
    "import logging\n",
    "import numpy as np\n",
    "from geopy.geocoders import Nominatim\n",
    "from folium import plugins\n",
    "import matplotlib.pyplot as plt\n",
    "from matplotlib import colors"
   ]
  },
  {
   "cell_type": "code",
   "execution_count": 14,
   "metadata": {
    "collapsed": true
   },
   "outputs": [],
   "source": [
    "placelist = ['Inca', 'Calvia', 'Palma de Mallorca', 'Felanitx', 'Pollensa', 'Colonia de Sant Pere',\n",
    "             'Alcudia', 'Andratx', 'Soller', 'Deia', 'Valldemossa', 'Fornalutx', 'Lluc', \n",
    "             'Llucmajor', 'Cala Millor', 'Orient', 'Bunyola', 'Arta', 'Capdepera', 'Randa', 'Estellencs',\n",
    "             'Establiments', 'Banyalbufar', 'Esporles', 'Port de Pollensa', 'Portocristo',\n",
    "             'Son Servera', 'Santa Margalida', 'Montuiri', 'Santa María del Cami', 'Can Picafort',\n",
    "             'Petra', 'Son Serra de Marina', 'Campanet', \"Caimari\", 'Selva', 'Mancor de la Vall',\n",
    "             'Lloseta', 'Alaro', 'Puigpunyent', 'Galilea', 'Sant Elm', \"Port d'Andratx\",\n",
    "             'Peguera', 'Santa Ponça', 'es Molinar', 'Ariany', 'Santa Margalida', 'Porreres',\n",
    "             'Santanyi', 'Colonia de Sant Jordi', 'sa Rapita', 'Selva', 'Moscari, Raiguer', 'Biniamar']"
   ]
  },
  {
   "cell_type": "code",
   "execution_count": 15,
   "metadata": {
    "collapsed": true
   },
   "outputs": [],
   "source": [
    "puiglist = [\"Puig d'Alaro\", \"Puig de l'Ofre\", \"Moleta de s'Esclop\", \"Puig de Galatzo\", \"Puig des Porrassar\",\n",
    "            \"Fita des Ram\", \"es Penyal Gran\", \"Es Caragoli\", \"Puig des Teix\", \"Puig de s'Aritjar\",\n",
    "            \"Puig d'Alfabia\", \"Puig des Tossals Verds\", \"Puig de Massanella\", \"Penyal d'Honor\", \n",
    "            \"Puig d'Alaro\", \"Sant Salvador\", \"Puig Tomir\", \"Puig de Maria\",\n",
    "            \"Na Blanca\", \"Es Caragoli\", 'Puig de Randa', 'Puig des Revells',\n",
    "            \"Na Penyal\", \"Puig de Planicia\", \"Talaia d'Alcudia\", \"Puig des Romani\",\n",
    "            \"Penyalet des Clot des Cero\", \"Sa Talaeita\", \"Puig des Migdia, Arta\", \"sa Talaia Freda\",\n",
    "            \"Sa Moleta\"]"
   ]
  },
  {
   "cell_type": "code",
   "execution_count": 20,
   "metadata": {
    "collapsed": true
   },
   "outputs": [],
   "source": [
    "lighthouses = [\"Far de Capdepera\", \"Far del Cap de Formentor\", \"Faro del Cap Salines\",\n",
    "               \"Far des Cap Gros\", \"Far de sa Creu\", \"Far de Tramuntana\", \"Far de la Mola\",\n",
    "               \"Faro de Cap de Cala Figuera\", \"Far des Cap Blanc\", \"Far de s'Estelella\",\n",
    "               \"Far de la Punta de l'Avancada\"]"
   ]
  },
  {
   "cell_type": "markdown",
   "metadata": {},
   "source": [
    "The list of already geolocalised place is stored somewhere, so we don't have to look for them every time we run the code. Except if we want to start the list from scratch. The file will have 3 columns: name of the place, latitude and longitude. "
   ]
  },
  {
   "cell_type": "code",
   "execution_count": 17,
   "metadata": {
    "collapsed": true
   },
   "outputs": [],
   "source": [
    "listname = './place_list.txt'\n",
    "puiglistname = './puig_list.txt'\n",
    "lighthousename = \"./lighthouse_list.txt\""
   ]
  },
  {
   "cell_type": "markdown",
   "metadata": {},
   "source": [
    "We start by reading the place names written inside this file, if it exists."
   ]
  },
  {
   "cell_type": "code",
   "execution_count": 21,
   "metadata": {
    "collapsed": false
   },
   "outputs": [],
   "source": [
    "saved_places, saved_puig, saved_lighthouse = [], [], []\n",
    "if os.path.exists(listname):\n",
    "    with open(listname, 'r') as f:\n",
    "        for lines in f:\n",
    "            saved_places.append(lines.split('|')[0])\n",
    "if os.path.exists(puiglistname):\n",
    "    with open(puiglistname, 'r') as f:\n",
    "        for lines in f:\n",
    "            saved_puig.append(lines.split('|')[0])   \n",
    "if os.path.exists(lighthousename):\n",
    "    with open(lighthousename, 'r') as f:\n",
    "        for lines in f:\n",
    "            saved_lighthouse.append(lines.split('|')[0])\n",
    "else:\n",
    "    open(lighthousename, 'a').close()"
   ]
  },
  {
   "cell_type": "markdown",
   "metadata": {},
   "source": [
    "Now we can update the list of with the new list of places we want to add on the map."
   ]
  },
  {
   "cell_type": "code",
   "execution_count": 19,
   "metadata": {
    "collapsed": false
   },
   "outputs": [
    {
     "name": "stdout",
     "output_type": "stream",
     "text": [
      "Moscari, Raiguer\n"
     ]
    }
   ],
   "source": [
    "geolocator = Nominatim()\n",
    "with open(listname, 'a') as f:\n",
    "    for places in placelist:\n",
    "        if places in saved_places:\n",
    "            continue\n",
    "            #print 'already done'\n",
    "        else:\n",
    "            print(places)\n",
    "            location = geolocator.geocode({'city' : places, \"country\": \"Spain\"}, timeout=10)\n",
    "            if location:\n",
    "                print location.raw\n",
    "                f.write(\"%s|%.7f|%.7f\\n\" % (places, location.latitude, location.longitude))"
   ]
  },
  {
   "cell_type": "code",
   "execution_count": 8,
   "metadata": {
    "collapsed": false
   },
   "outputs": [
    {
     "name": "stdout",
     "output_type": "stream",
     "text": [
      "Puig de l'Ofre\n",
      "Moleta de s'Esclop\n",
      "Puig de Galatzo\n",
      "Puig des Porrassar\n",
      "Fita des Ram\n",
      "es Penyal Gran\n",
      "Es Caragoli\n",
      "Puig des Teix\n",
      "Puig de s'Aritjar\n",
      "Puig d'Alfabia\n",
      "Puig des Tossals Verds\n",
      "Puig de Massanella\n",
      "Penyal d'Honor\n",
      "Sant Salvador\n",
      "Puig Tomir\n",
      "Puig de Maria\n",
      "Na Blanca\n",
      "Es Caragoli\n",
      "Puig de Randa\n",
      "Puig des Revells\n",
      "Na Penyal\n",
      "Puig de Planicia\n",
      "Talaia d'Alcudia\n",
      "Puig des Romani\n",
      "Penyalet des Clot des Cero\n",
      "Sa Talaeita\n",
      "Puig des Migdia, Arta\n",
      "sa Talaia Freda\n",
      "Sa Moleta\n"
     ]
    }
   ],
   "source": [
    "with open(puiglistname, 'a') as f:\n",
    "    for puig in puiglist:\n",
    "        if puig in saved_puig:\n",
    "            continue\n",
    "            print 'already done'\n",
    "        else:\n",
    "            print puig\n",
    "            location = geolocator.geocode(puig, timeout=10)\n",
    "            if location:\n",
    "                f.write(\"%s|%.7f|%.7f\\n\" % (puig, location.latitude, location.longitude))"
   ]
  },
  {
   "cell_type": "code",
   "execution_count": 22,
   "metadata": {
    "collapsed": false
   },
   "outputs": [
    {
     "name": "stdout",
     "output_type": "stream",
     "text": [
      "Faro del Cap Salines\n",
      "Far des Cap Gros\n",
      "Far de sa Creu\n",
      "Far de Tramuntana\n",
      "Far de la Mola\n",
      "Faro de Cap de Cala Figuera\n",
      "Far des Cap Blanc\n",
      "Far de s'Estelella\n",
      "Far de la Punta de l'Avancada\n"
     ]
    }
   ],
   "source": [
    "with open(lighthousename, 'a') as f:\n",
    "    for lighthouse in lighthouses:\n",
    "        if lighthouse in saved_lighthouse:\n",
    "            continue\n",
    "            print 'already done'\n",
    "        else:\n",
    "            print lighthouse\n",
    "            location = geolocator.geocode(lighthouse, timeout=10)\n",
    "            if location:\n",
    "                f.write(\"%s|%.7f|%.7f\\n\" % (lighthouse, location.latitude, location.longitude))"
   ]
  },
  {
   "cell_type": "markdown",
   "metadata": {
    "collapsed": true
   },
   "source": [
    "# Create the map"
   ]
  },
  {
   "cell_type": "code",
   "execution_count": 23,
   "metadata": {
    "collapsed": false,
    "scrolled": true
   },
   "outputs": [],
   "source": [
    "location = geolocator.geocode(\"Lloret de Vistalegre, Mallorca, Spain\", timeout=10)\n",
    "map_run = folium.Map(location=[location.latitude, location.longitude], \n",
    "                     zoom_start=10)\n",
    "\n",
    "# Create custom icon for mountain\n",
    "iconurl_mountain = 'https://upload.wikimedia.org/wikipedia/commons/thumb/5/5a/Mountain_Icon.svg/128px-Mountain_Icon.svg.png'\n",
    "iconurl_lighthouse = 'https://github.com/ctroupin/trail-running-maps/raw/master/images/lighthouse-icon.png'\n",
    "\n",
    "with open(listname, 'r') as f:\n",
    "    for lines in f:\n",
    "        latlon = (lines.split('|')[1:])\n",
    "        folium.CircleMarker(latlon, radius=300, color='blue', \n",
    "                            fill_color='blue', fill_opacity=0.8, popup=None).add_to(map_run)\n",
    "        \n",
    "with open(puiglistname, 'r') as f:\n",
    "    for lines in f:\n",
    "        latlon = (lines.split('|')[1:])\n",
    "        \n",
    "        iconmountain = folium.features.CustomIcon(iconurl_mountain, icon_size=(20, 20))\n",
    "        folium.Marker(latlon, \n",
    "                      popup=lines.split('|')[0], icon=iconmountain).add_to(map_run)\n",
    "\n",
    "with open(lighthousename, 'r') as f:\n",
    "    for lines in f:\n",
    "        latlon = (lines.split('|')[1:])\n",
    "        iconlighthouse = folium.features.CustomIcon(iconurl_lighthouse, icon_size=(20, 20))\n",
    "        folium.Marker(latlon, \n",
    "                      popup=lines.split('|')[0], icon=iconlighthouse).add_to(map_run)"
   ]
  },
  {
   "cell_type": "code",
   "execution_count": 24,
   "metadata": {
    "collapsed": false
   },
   "outputs": [],
   "source": [
    "outputdir = '/home/ctroupin/public_html/LeafletMaps'\n",
    "mapname = 'test_location_points.html'\n",
    "if not(os.path.exists(outputdir)):\n",
    "    os.makedirs(outputdir)\n",
    "    logging.info('Creating directory %s' %(outputdir))\n",
    "map_run.save(os.path.join(outputdir, mapname))"
   ]
  },
  {
   "cell_type": "code",
   "execution_count": null,
   "metadata": {
    "collapsed": true
   },
   "outputs": [],
   "source": []
  }
 ],
 "metadata": {
  "kernelspec": {
   "display_name": "Python 2",
   "language": "python",
   "name": "python2"
  },
  "language_info": {
   "codemirror_mode": {
    "name": "ipython",
    "version": 2
   },
   "file_extension": ".py",
   "mimetype": "text/x-python",
   "name": "python",
   "nbconvert_exporter": "python",
   "pygments_lexer": "ipython2",
   "version": "2.7.5+"
  }
 },
 "nbformat": 4,
 "nbformat_minor": 0
}
