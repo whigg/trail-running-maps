{
 "cells": [
  {
   "cell_type": "code",
   "execution_count": 31,
   "metadata": {
    "collapsed": false
   },
   "outputs": [],
   "source": [
    "import re\n",
    "import os\n",
    "import folium\n",
    "import glob\n",
    "import logging\n",
    "import numpy as np\n",
    "from geopy.geocoders import Nominatim\n",
    "from folium import plugins\n",
    "import matplotlib.pyplot as plt\n",
    "from matplotlib import colors"
   ]
  },
  {
   "cell_type": "code",
   "execution_count": 64,
   "metadata": {
    "collapsed": true
   },
   "outputs": [],
   "source": [
    "placelist = ['Inca', 'Calvia', 'Palma de Mallorca', 'Felanitx', 'Inca', 'Pollensa', 'Colonia de Sant Pere',\n",
    "             'Alcudia', 'Andratx', 'Soller', 'Deia', 'Valldemossa', 'Fornalutx', 'Lluc', \n",
    "             'Llucmajor', 'Cala Millor', 'Orient', 'Bunyola', 'Arta', 'Capdepera', 'Randa', 'Estellencs',\n",
    "             'Establiments', 'Banyalbufar', 'Esporles', 'Port de Pollensa', 'Portocristo',\n",
    "             'Son Servera', 'Santa Margalida', 'Montuiri', 'Santa María del Cami', 'Can Picafort',\n",
    "             'Petra', 'Son Serra de Marina', 'Campanet', \"Caimari\", 'Selva', 'Mancor de la Vall',\n",
    "             'Lloseta', 'Alaro', 'Puigpunyent', 'Galilea', 'Sant Elm', \"Port d'Andratx\",\n",
    "             'Peguera', 'Santa Ponça', 'es Molinar']"
   ]
  },
  {
   "cell_type": "code",
   "execution_count": 65,
   "metadata": {
    "collapsed": true
   },
   "outputs": [],
   "source": [
    "puiglist = [\"Puig d'Alaro\", \"Puig de l'Ofre\", \"Moleta de s'Esclop\", \"Puig de Galatzo\", \"Puig des Porrassar\",\n",
    "            \"Fita des Ram\", \"es Penyal Gran\", \"Es Caragoli\", \"Puig des Teix\", \"Puig de s'Aritjar\",\n",
    "            \"Puig d'Alfabia\", \"Puig des Tossals Verds\", \"Puig de Massanella\", \"Coll des Prat\"]"
   ]
  },
  {
   "cell_type": "markdown",
   "metadata": {},
   "source": [
    "The list of already geolocalised place is stored somewhere, so we don't have to look for them every time we run the code. Except if we want to start the list from scratch. The file will have 3 columns: name of the place, latitude and longitude. "
   ]
  },
  {
   "cell_type": "code",
   "execution_count": 66,
   "metadata": {
    "collapsed": true
   },
   "outputs": [],
   "source": [
    "listname = './place_list.txt'\n",
    "puiglistname = './puig_list.txt'"
   ]
  },
  {
   "cell_type": "markdown",
   "metadata": {},
   "source": [
    "We start by reading the place names written inside this file, if it exists."
   ]
  },
  {
   "cell_type": "code",
   "execution_count": 67,
   "metadata": {
    "collapsed": false
   },
   "outputs": [],
   "source": [
    "saved_places, saved_puig = [], []\n",
    "if os.path.exists(listname):\n",
    "    with open(listname, 'r') as f:\n",
    "        for lines in f:\n",
    "            saved_places.append(lines.split('|')[0])\n",
    "if os.path.exists(puiglistname):\n",
    "    with open(puiglistname, 'r') as f:\n",
    "        for lines in f:\n",
    "            saved_puig.append(lines.split('|')[0])    "
   ]
  },
  {
   "cell_type": "markdown",
   "metadata": {},
   "source": [
    "Now we can update the list of with the new list of places we want to add on the map."
   ]
  },
  {
   "cell_type": "code",
   "execution_count": 68,
   "metadata": {
    "collapsed": false
   },
   "outputs": [
    {
     "name": "stdout",
     "output_type": "stream",
     "text": [
      "already done\n",
      "already done\n",
      "already done\n",
      "already done\n",
      "already done\n",
      "already done\n",
      "already done\n",
      "already done\n",
      "already done\n",
      "already done\n",
      "already done\n",
      "already done\n",
      "already done\n",
      "already done\n",
      "already done\n",
      "already done\n",
      "already done\n",
      "already done\n",
      "already done\n",
      "already done\n",
      "already done\n",
      "already done\n",
      "already done\n",
      "already done\n",
      "already done\n",
      "already done\n",
      "already done\n",
      "already done\n",
      "already done\n",
      "already done\n",
      "Santa María del Cami\n",
      "{u'display_name': u'Santa Mar\\xeda del Cam\\xed, Raiguer, Illes Balears, Espa\\xf1a', u'importance': 0.6439472180372, u'place_id': u'144264855', u'lon': u'2.7779083', u'lat': u'39.6479453', u'osm_type': u'relation', u'licence': u'Data \\xa9 OpenStreetMap contributors, ODbL 1.0. http://www.openstreetmap.org/copyright', u'osm_id': u'342256', u'boundingbox': [u'39.6113292', u'39.7185043', u'2.7314475', u'2.8244356'], u'type': u'administrative', u'class': u'boundary', u'icon': u'https://nominatim.openstreetmap.org/images/mapicons/poi_boundary_administrative.p.20.png'}\n",
      "already done\n",
      "already done\n",
      "already done\n",
      "already done\n",
      "already done\n",
      "already done\n",
      "already done\n",
      "already done\n",
      "already done\n",
      "already done\n",
      "already done\n",
      "Sant Elm\n",
      "{u'display_name': u'Sant Elm, Serra de Tramuntana, Illes Balears, 07159, 124', u'importance': 0.475, u'place_id': u'40150617', u'lon': u'2.3518349', u'lat': u'39.5790712', u'osm_type': u'node', u'licence': u'Data \\xa9 OpenStreetMap contributors, ODbL 1.0. http://www.openstreetmap.org/copyright', u'osm_id': u'3065596352', u'boundingbox': [u'39.5590712', u'39.5990712', u'2.3318349', u'2.3718349'], u'type': u'village', u'class': u'place', u'icon': u'https://nominatim.openstreetmap.org/images/mapicons/poi_place_village.p.20.png'}\n",
      "Port d'Andratx\n",
      "{u'display_name': u\"Port d'Andratx, Serra de Tramuntana, Illes Balears, 07157, Espa\\xf1a\", u'importance': 0.75379433483971, u'place_id': u'684944', u'lon': u'2.3911636', u'lat': u'39.5455483', u'osm_type': u'node', u'licence': u'Data \\xa9 OpenStreetMap contributors, ODbL 1.0. http://www.openstreetmap.org/copyright', u'osm_id': u'253262105', u'boundingbox': [u'39.5255483', u'39.5655483', u'2.3711636', u'2.4111636'], u'type': u'village', u'class': u'place', u'icon': u'https://nominatim.openstreetmap.org/images/mapicons/poi_place_village.p.20.png'}\n",
      "Peguera\n",
      "{u'display_name': u'Peguera, la Baronia de Rialb, Noguera, Lleida, CAT, Espa\\xf1a', u'importance': 0.36, u'place_id': u'2597594510', u'lon': u'1.2107192', u'lat': u'41.9879133', u'osm_type': u'node', u'licence': u'Data \\xa9 OpenStreetMap contributors, ODbL 1.0. http://www.openstreetmap.org/copyright', u'osm_id': u'3951745384', u'boundingbox': [u'41.9878633', u'41.9879633', u'1.2106692', u'1.2107692'], u'type': u'isolated_dwelling', u'class': u'place'}\n",
      "Santa Ponça\n",
      "{u'display_name': u'Santa Pon\\xe7a, Calvi\\xe0, Serra de Tramuntana, Illes Balears, Espa\\xf1a', u'importance': 0.3901800738083, u'place_id': u'2602416743', u'lon': u'2.4822483', u'lat': u'39.5171235', u'osm_type': u'node', u'licence': u'Data \\xa9 OpenStreetMap contributors, ODbL 1.0. http://www.openstreetmap.org/copyright', u'osm_id': u'29402598', u'boundingbox': [u'39.4971235', u'39.5371235', u'2.4622483', u'2.5022483'], u'type': u'suburb', u'class': u'place', u'icon': u'https://nominatim.openstreetmap.org/images/mapicons/poi_place_village.p.20.png'}\n",
      "es Molinar\n",
      "{u'display_name': u'Es Molinar, Palma, Illes Balears, Espa\\xf1a', u'importance': 0.45, u'place_id': u'796737', u'lon': u'2.6775713', u'lat': u'39.5587758', u'osm_type': u'node', u'licence': u'Data \\xa9 OpenStreetMap contributors, ODbL 1.0. http://www.openstreetmap.org/copyright', u'osm_id': u'269474549', u'boundingbox': [u'39.5387758', u'39.5787758', u'2.6575713', u'2.6975713'], u'type': u'suburb', u'class': u'place', u'icon': u'https://nominatim.openstreetmap.org/images/mapicons/poi_place_village.p.20.png'}\n"
     ]
    }
   ],
   "source": [
    "geolocator = Nominatim()\n",
    "with open(listname, 'a') as f:\n",
    "    for places in placelist:\n",
    "        if places in saved_places:\n",
    "            print 'already done'\n",
    "        else:\n",
    "            print(places)\n",
    "            location = geolocator.geocode({'city' : places, \"country\": \"Spain\"}, timeout=10)\n",
    "            if location:\n",
    "                print location.raw\n",
    "                f.write(\"%s|%.7f|%.7f\\n\" % (places, location.latitude, location.longitude))"
   ]
  },
  {
   "cell_type": "code",
   "execution_count": 72,
   "metadata": {
    "collapsed": false
   },
   "outputs": [
    {
     "ename": "IndentationError",
     "evalue": "expected an indented block (<ipython-input-72-bc0618df29c6>, line 5)",
     "output_type": "error",
     "traceback": [
      "\u001b[1;36m  File \u001b[1;32m\"<ipython-input-72-bc0618df29c6>\"\u001b[1;36m, line \u001b[1;32m5\u001b[0m\n\u001b[1;33m    else:\u001b[0m\n\u001b[1;37m       ^\u001b[0m\n\u001b[1;31mIndentationError\u001b[0m\u001b[1;31m:\u001b[0m expected an indented block\n"
     ]
    }
   ],
   "source": [
    "with open(puiglistname, 'a') as f:\n",
    "    for puig in puiglist:\n",
    "        if puig in saved_puig:\n",
    "            print 'already done'\n",
    "        else:\n",
    "            location = geolocator.geocode(puig, timeout=10)\n",
    "            if location:\n",
    "                lo\n",
    "                f.write(\"%s|%.7f|%.7f\\n\" % (puig, location.latitude, location.longitude))"
   ]
  },
  {
   "cell_type": "markdown",
   "metadata": {
    "collapsed": true
   },
   "source": [
    "# Create the map"
   ]
  },
  {
   "cell_type": "code",
   "execution_count": 70,
   "metadata": {
    "collapsed": false,
    "scrolled": true
   },
   "outputs": [],
   "source": [
    "location = geolocator.geocode(\"Lloret de Vistalegre, Mallorca, Spain\", timeout=10)\n",
    "map_run = folium.Map(location=[location.latitude, location.longitude], \n",
    "                     zoom_start=10)\n",
    "\n",
    "with open(listname, 'r') as f:\n",
    "    for lines in f:\n",
    "        latlon = (lines.split('|')[1:])\n",
    "        folium.Marker((latlon)).add_to(map_run)\n",
    "        \n",
    "with open(puiglistname, 'r') as f:\n",
    "    for lines in f:\n",
    "        latlon = (lines.split('|')[1:])\n",
    "        folium.RegularPolygonMarker(latlon, popup=lines.split('|')[0],\n",
    "                   fill_color='#132b5e', number_of_sides=3, radius=10).add_to(map_run)"
   ]
  },
  {
   "cell_type": "code",
   "execution_count": 71,
   "metadata": {
    "collapsed": false
   },
   "outputs": [],
   "source": [
    "outputdir = '/home/ctroupin/public_html/LeafletMaps'\n",
    "mapname = 'test_location_points.html'\n",
    "if not(os.path.exists(outputdir)):\n",
    "    os.makedirs(outputdir)\n",
    "    logging.info('Creating directory %s' %(outputdir))\n",
    "map_run.save(os.path.join(outputdir, mapname))"
   ]
  },
  {
   "cell_type": "code",
   "execution_count": 78,
   "metadata": {
    "collapsed": true
   },
   "outputs": [],
   "source": [
    "folium.Icon?"
   ]
  },
  {
   "cell_type": "code",
   "execution_count": 77,
   "metadata": {
    "collapsed": false
   },
   "outputs": [
    {
     "data": {
      "text/html": [
       "<div style=\"width:100%;\"><div style=\"position:relative;width:100%;height:0;padding-bottom:60%;\"><iframe src=\"data:text/html;base64,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\" style=\"position:absolute;width:100%;height:100%;left:0;top:0;\"></iframe></div></div>"
      ],
      "text/plain": [
       "<folium.folium.Map at 0x64a9950>"
      ]
     },
     "execution_count": 77,
     "metadata": {},
     "output_type": "execute_result"
    }
   ],
   "source": [
    "folium.Marker([location.latitude, location.longitude], popup='Mt. Hood Meadows', icon=folium.Icon(icon='envelope')).add_to(map_run)\n",
    "map_run"
   ]
  },
  {
   "cell_type": "code",
   "execution_count": 79,
   "metadata": {
    "collapsed": true
   },
   "outputs": [],
   "source": [
    "folium.Marker?"
   ]
  },
  {
   "cell_type": "code",
   "execution_count": null,
   "metadata": {
    "collapsed": true
   },
   "outputs": [],
   "source": [
    "https://upload.wikimedia.org/wikipedia/commons/thumb/5/5a/Mountain_Icon.svg/128px-Mountain_Icon.svg.png"
   ]
  }
 ],
 "metadata": {
  "kernelspec": {
   "display_name": "Python 2",
   "language": "python",
   "name": "python2"
  },
  "language_info": {
   "codemirror_mode": {
    "name": "ipython",
    "version": 2
   },
   "file_extension": ".py",
   "mimetype": "text/x-python",
   "name": "python",
   "nbconvert_exporter": "python",
   "pygments_lexer": "ipython2",
   "version": "2.7.3"
  }
 },
 "nbformat": 4,
 "nbformat_minor": 0
}
