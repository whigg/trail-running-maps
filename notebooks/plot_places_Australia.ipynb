{
 "cells": [
  {
   "cell_type": "markdown",
   "metadata": {},
   "source": [
    "**Goal:** from a list of places (towns, villages), generate a Leaflet interactive map with a marker at the specified places."
   ]
  },
  {
   "cell_type": "code",
   "execution_count": 4,
   "metadata": {
    "collapsed": false,
    "deletable": true,
    "editable": true
   },
   "outputs": [],
   "source": [
    "import re\n",
    "import os\n",
    "import folium\n",
    "import glob\n",
    "import logging\n",
    "import numpy as np\n",
    "from geopy.geocoders import Nominatim\n",
    "from folium import plugins\n",
    "import matplotlib.pyplot as plt\n",
    "from matplotlib import colors"
   ]
  },
  {
   "cell_type": "code",
   "execution_count": 5,
   "metadata": {
    "collapsed": true,
    "deletable": true,
    "editable": true
   },
   "outputs": [],
   "source": [
    "placelist = ['Townsville', 'Ingham', 'Cardwell', 'Yungaburra', 'Atherton', 'Port Douglas']"
   ]
  },
  {
   "cell_type": "markdown",
   "metadata": {
    "deletable": true,
    "editable": true
   },
   "source": [
    "The list of already geolocalised place is stored somewhere, so we don't have to look for them every time we run the code. Except if we want to start the list from scratch. The file will have 3 columns: name of the place, latitude and longitude. "
   ]
  },
  {
   "cell_type": "code",
   "execution_count": 6,
   "metadata": {
    "collapsed": true,
    "deletable": true,
    "editable": true
   },
   "outputs": [],
   "source": [
    "listname = './place_list_australia.txt'"
   ]
  },
  {
   "cell_type": "markdown",
   "metadata": {
    "deletable": true,
    "editable": true
   },
   "source": [
    "We start by reading the place names written inside this file, if it exists."
   ]
  },
  {
   "cell_type": "code",
   "execution_count": 7,
   "metadata": {
    "collapsed": false,
    "deletable": true,
    "editable": true
   },
   "outputs": [],
   "source": [
    "saved_places = []\n",
    "if os.path.exists(listname):\n",
    "    with open(listname, 'r') as f:\n",
    "        for lines in f:\n",
    "            saved_places.append(lines.split('|')[0])"
   ]
  },
  {
   "cell_type": "markdown",
   "metadata": {
    "deletable": true,
    "editable": true
   },
   "source": [
    "Now we can update the list of with the new list of places we want to add on the map."
   ]
  },
  {
   "cell_type": "code",
   "execution_count": 10,
   "metadata": {
    "collapsed": false,
    "deletable": true,
    "editable": true
   },
   "outputs": [
    {
     "name": "stdout",
     "output_type": "stream",
     "text": [
      "already done\n",
      "already done\n",
      "already done\n",
      "already done\n",
      "already done\n",
      "already done\n"
     ]
    }
   ],
   "source": [
    "geolocator = Nominatim()\n",
    "with open(listname, 'a') as f:\n",
    "    for places in placelist:\n",
    "        if places in saved_places:\n",
    "            print('already done')\n",
    "        else:\n",
    "            print(places)\n",
    "            location = geolocator.geocode({'city' : places, \"country\": \"Australia\"}, timeout=10)\n",
    "            if location:\n",
    "                print(location.raw)\n",
    "                f.write(\"%s|%.7f|%.7f\\n\" % (places, location.latitude, location.longitude))"
   ]
  },
  {
   "cell_type": "markdown",
   "metadata": {
    "collapsed": true,
    "deletable": true,
    "editable": true
   },
   "source": [
    "# Create the map"
   ]
  },
  {
   "cell_type": "code",
   "execution_count": 11,
   "metadata": {
    "collapsed": false,
    "deletable": true,
    "editable": true,
    "scrolled": true
   },
   "outputs": [],
   "source": [
    "location = geolocator.geocode(\"Townsville, Queensland, Australia\", timeout=10)\n",
    "map_run = folium.Map(location=[location.latitude, location.longitude], \n",
    "                     zoom_start=9)\n",
    "\n",
    "with open(listname, 'r') as f:\n",
    "    for lines in f:\n",
    "        latlon = (lines.split('|')[1:])\n",
    "        folium.Marker((latlon), popup=lines.split('|')[0]).add_to(map_run)"
   ]
  },
  {
   "cell_type": "markdown",
   "metadata": {},
   "source": [
    "Save the generated html file."
   ]
  },
  {
   "cell_type": "code",
   "execution_count": 12,
   "metadata": {
    "collapsed": false,
    "deletable": true,
    "editable": true
   },
   "outputs": [],
   "source": [
    "outputdir = './html/'\n",
    "mapname = 'test_location_austrlia.html'\n",
    "if not(os.path.exists(outputdir)):\n",
    "    os.makedirs(outputdir)\n",
    "    logging.info('Creating directory %s' %(outputdir))\n",
    "map_run.save(os.path.join(outputdir, mapname))"
   ]
  }
 ],
 "metadata": {
  "kernelspec": {
   "display_name": "Diva-python3.6",
   "language": "python",
   "name": "diva-python3.6"
  },
  "language_info": {
   "codemirror_mode": {
    "name": "ipython",
    "version": 3
   },
   "file_extension": ".py",
   "mimetype": "text/x-python",
   "name": "python",
   "nbconvert_exporter": "python",
   "pygments_lexer": "ipython3",
   "version": "3.6.0"
  }
 },
 "nbformat": 4,
 "nbformat_minor": 0
}
