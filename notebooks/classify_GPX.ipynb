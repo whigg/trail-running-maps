{
 "cells": [
  {
   "cell_type": "code",
   "execution_count": 2,
   "metadata": {
    "collapsed": true
   },
   "outputs": [],
   "source": [
    "import gpxpy\n",
    "import gpxpy.gpx\n",
    "import numpy as np\n",
    "import os\n",
    "import glob\n",
    "import logging\n",
    "from geopy import distance"
   ]
  },
  {
   "cell_type": "code",
   "execution_count": null,
   "metadata": {
    "collapsed": true
   },
   "outputs": [],
   "source": [
    "os."
   ]
  },
  {
   "cell_type": "code",
   "execution_count": 2,
   "metadata": {},
   "outputs": [
    {
     "name": "stderr",
     "output_type": "stream",
     "text": [
      "INFO:root:starting\n"
     ]
    }
   ],
   "source": [
    "logger = logging.getLogger()\n",
    "logger.setLevel(logging.DEBUG)\n",
    "logging.info(\"starting\")"
   ]
  },
  {
   "cell_type": "code",
   "execution_count": 26,
   "metadata": {
    "collapsed": true
   },
   "outputs": [],
   "source": [
    "def get_mean_coord(filename):\n",
    "    with open(filename, \"r\") as gf:\n",
    "        gpx = gpxpy.parse(gf)\n",
    "        lon = []\n",
    "        lat = []\n",
    "        for track in gpx.tracks:\n",
    "            for segment in track.segments:\n",
    "                for point in segment.points:\n",
    "                    lon.append(point.longitude)\n",
    "                    lat.append(point.latitude)\n",
    "        if len(lon) > 0:\n",
    "            lon = np.array(lon)\n",
    "            lat = np.array(lat)\n",
    "            lonmean = lon.mean()\n",
    "            latmean = lat.mean()\n",
    "        else:\n",
    "            lonmean = np.nan\n",
    "            latmean = np.nan\n",
    "\n",
    "    return lonmean, latmean"
   ]
  },
  {
   "cell_type": "code",
   "execution_count": 35,
   "metadata": {
    "collapsed": true
   },
   "outputs": [],
   "source": [
    "# Dictionary storing the places: keys = names\n",
    "# values = tuple with lon, lat or mean location and max. distance from mean location\n",
    "locDict = {\"verviers\": (50.583333, 5.85, 15.),\n",
    "           \"sarttilman\": (50.581546, 5.567365, 7.),\n",
    "           \"piran\": (45.523821, 13.567222, 10.),\n",
    "           \"grancanaria\": (28.049768, -15.575252, 30.),\n",
    "           \"barcelona\": (41.383333, 2.183333, 10.),\n",
    "           \"ostende\": (51.233333, 2.916667, 10.),\n",
    "           \"lapalma\": (28.666667, -17.866667, 20.),\n",
    "           \"tenerife\": (28.268611, -16.605556, 50.),\n",
    "           \"elhierro\": (27.75, -18, 15.),\n",
    "           \"delft\": (52.011736, 4.359208, 5.),\n",
    "           \"hamburg\": (53.565278, 10.001389, 7.),\n",
    "           \"calvi\": (42.5686, 8.7569, 7.),\n",
    "           \"athens\": (37.976354, 23.726661, 10.),\n",
    "           \"mallorca\": (39.624293, 3.025380, 30.),\n",
    "           \"boulder\": (40.014196, -105.262618, 10.),\n",
    "           \"porto\": (41.162142, -8.621953, 10.)\n",
    "           }"
   ]
  },
  {
   "cell_type": "code",
   "execution_count": 36,
   "metadata": {},
   "outputs": [
    {
     "name": "stderr",
     "output_type": "stream",
     "text": [
      "INFO:root:Working on 12 GPX files\n"
     ]
    }
   ],
   "source": [
    "year = \"2019\"\n",
    "gpxdir = \"/data/GPX/2class/{}/\".format(year)\n",
    "filelist = sorted(glob.glob(os.path.join(gpxdir, \"{}*.gpx\".format(year))))\n",
    "logging.info(\"Working on {} GPX files\".format(len(filelist)))"
   ]
  },
  {
   "cell_type": "code",
   "execution_count": 37,
   "metadata": {},
   "outputs": [
    {
     "name": "stderr",
     "output_type": "stream",
     "text": [
      "DEBUG:root:Working on file 2018-03-05T06:49:35Z.gpx\n",
      "INFO:root:Closest place: verviers\n",
      "DEBUG:root:New file name verviers_2018-03-05T06:49:35Z.gpx\n",
      "DEBUG:root:Working on file 2018-04-15T12:33:02Z.gpx\n",
      "INFO:root:Closest place: verviers\n",
      "DEBUG:root:New file name verviers_2018-04-15T12:33:02Z.gpx\n",
      "DEBUG:root:Working on file 2018-04-19T16:13:52Z.gpx\n",
      "DEBUG:root:Working on file 2018-04-21T08:55:32Z.gpx\n",
      "DEBUG:root:Working on file 2018-04-28T08:48:42Z.gpx\n",
      "DEBUG:root:Working on file 2018-05-05T16:08:43Z.gpx\n",
      "DEBUG:root:Working on file 2018-05-08T04:40:02Z.gpx\n",
      "INFO:root:Closest place: verviers\n",
      "DEBUG:root:New file name verviers_2018-05-08T04:40:02Z.gpx\n",
      "DEBUG:root:Working on file 2018-05-11T13:54:46Z.gpx\n",
      "INFO:root:Closest place: verviers\n",
      "DEBUG:root:New file name verviers_2018-05-11T13:54:46Z.gpx\n",
      "DEBUG:root:Working on file 2018-06-05T11:49:15Z.gpx\n",
      "DEBUG:root:Working on file 2018-06-05T11:56:56Z.gpx\n",
      "DEBUG:root:Working on file 2018-07-21T11:03:04Z.gpx\n",
      "DEBUG:root:Working on file 2018-07-29T07:27:30Z.gpx\n",
      "INFO:root:Closest place: verviers\n",
      "DEBUG:root:New file name verviers_2018-07-29T07:27:30Z.gpx\n"
     ]
    }
   ],
   "source": [
    "for gpxfile in filelist:\n",
    "    fname = os.path.basename(gpxfile)\n",
    "    logger.debug(\"Working on file {}\".format(fname))\n",
    "    # Check file size\n",
    "    if os.stat(gpxfile).st_size > 0:\n",
    "        lonmean, latmean = get_mean_coord(gpxfile)\n",
    "        if not(np.isnan(lonmean)):\n",
    "            # loop over the places\n",
    "            for city, coords in locDict.items(): \n",
    "                if not(np.isnan(lonmean)):\n",
    "                    dist = distance.distance((latmean, lonmean), (coords[0], coords[1])).km\n",
    "                    if dist < coords[2]:\n",
    "                        logger.info(\"Closest place: {}\".format(city))\n",
    "                        newfilename = \"_\".join((city, fname))\n",
    "                        logger.debug(\"New file name {}\".format(newfilename))\n",
    "                        os.rename(gpxfile, os.path.join(gpxdir, newfilename))\n",
    "                else:\n",
    "                    logger.info(\"Not a running activity\")\n",
    "                    os.remove(gpxfile)\n",
    "        else:\n",
    "            os.remove(gpxfile)\n",
    "    else:\n",
    "        logger.debug(\"File is empty\")\n",
    "        os.remove(gpxfile)"
   ]
  },
  {
   "cell_type": "code",
   "execution_count": null,
   "metadata": {
    "collapsed": true
   },
   "outputs": [],
   "source": []
  }
 ],
 "metadata": {
  "@webio": {
   "lastCommId": "6F902D51B5B54FF694632DC1E48BE9B4",
   "lastKernelId": "22cf1d79-61e5-4fc1-a803-5c9f67ef04a0"
  },
  "kernelspec": {
   "display_name": "Diva-python3.6",
   "language": "python",
   "name": "diva-python3.6"
  },
  "language_info": {
   "codemirror_mode": {
    "name": "ipython",
    "version": 3
   },
   "file_extension": ".py",
   "mimetype": "text/x-python",
   "name": "python",
   "nbconvert_exporter": "python",
   "pygments_lexer": "ipython3",
   "version": "3.6.0"
  }
 },
 "nbformat": 4,
 "nbformat_minor": 2
}
