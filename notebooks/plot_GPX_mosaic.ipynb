{
 "cells": [
  {
   "cell_type": "code",
   "execution_count": 1,
   "metadata": {
    "collapsed": true
   },
   "outputs": [],
   "source": [
    "import matplotlib.pyplot as plt\n",
    "import gpxpy\n",
    "import gpxpy.gpx\n",
    "import numpy as np\n",
    "import calendar\n",
    "import os\n",
    "import glob"
   ]
  },
  {
   "cell_type": "code",
   "execution_count": 2,
   "metadata": {
    "collapsed": true
   },
   "outputs": [],
   "source": [
    "def read_gpx_coord(filename):\n",
    "    with open(filename, \"r\") as gf:\n",
    "        gpx = gpxpy.parse(gf)\n",
    "        lon = []\n",
    "        lat = []\n",
    "        ele = []\n",
    "        for track in gpx.tracks:\n",
    "            for segment in track.segments:\n",
    "                for point in segment.points:\n",
    "                    lon.append(point.longitude)\n",
    "                    lat.append(point.latitude)\n",
    "                    ele.append(point.elevation)\n",
    "        lon = np.array(lon)\n",
    "        lat = np.array(lat)\n",
    "        ele = np.array(ele)\n",
    "        gpxdate = gpx.get_time_bounds()[0]\n",
    "\n",
    "    return lon, lat, ele, gpxdate"
   ]
  },
  {
   "cell_type": "code",
   "execution_count": 3,
   "metadata": {
    "collapsed": true
   },
   "outputs": [],
   "source": [
    "gpxdirlist = [\"/home/ctroupin/Projects/ctroupin.github.io/leaflet/GPX/2018/\",\n",
    "              \"/data/GPX/GranCanaria/2018/\",\n",
    "              \"/data/GPX/Belgique/2018/Verviers/\",\n",
    "              \"/data/GPX/Belgique/2018/\",\n",
    "              \"/data/GPX/Porto/\",\n",
    "              \"/data/GPX/Delft/\",\n",
    "              \"/data/GPX/Hamburg/\",\n",
    "              \"/data/GPX/Barcelona/\",\n",
    "              \"/data/GPX/Piran-Slovenia-Trieste/\"]\n",
    "colorlist = [\"b\", \"y\", \"g\", \"r\", \"#0E8187\", \"m\", \"w\", \"#F59320\", \"#784CFA\"]\n",
    "placelist = [\"Sart Tilman\", \"Gran Canaria\", \"Verviers\", \"Belgium\", \"Porto\",\n",
    "            \"Delft\", \"Hamburg\", \"Barcelona\", \"Slovenia & Triest\"]"
   ]
  },
  {
   "cell_type": "code",
   "execution_count": 28,
   "metadata": {},
   "outputs": [
    {
     "name": "stderr",
     "output_type": "stream",
     "text": [
      "/home/ctroupin/Software/PythonEnvs/Diva-python3.6/lib/python3.6/site-packages/matplotlib/cbook/deprecation.py:106: MatplotlibDeprecationWarning: Adding an axes using the same arguments as a previous axes currently reuses the earlier instance.  In a future version, a new instance will always be created and returned.  Meanwhile, this warning can be suppressed, and the future behavior ensured, by passing a unique label to each axes instance.\n",
      "  warnings.warn(message, mplDeprecation, stacklevel=1)\n"
     ]
    },
    {
     "name": "stdout",
     "output_type": "stream",
     "text": [
      "Directory /home/ctroupin/Projects/ctroupin.github.io/leaflet/GPX/2018/: 72\n",
      "Directory /data/GPX/GranCanaria/2018/: 41\n",
      "Directory /data/GPX/Belgique/2018/Verviers/: 240\n",
      "Directory /data/GPX/Belgique/2018/: 12\n",
      "Directory /data/GPX/Porto/: 6\n",
      "Directory /data/GPX/Delft/: 7\n",
      "Directory /data/GPX/Hamburg/: 3\n",
      "Directory /data/GPX/Barcelona/: 13\n",
      "Directory /data/GPX/Piran-Slovenia-Trieste/: 121\n",
      "Done\n"
     ]
    }
   ],
   "source": [
    "nn = 12 + len(colorlist)\n",
    "fig = plt.figure(figsize=(30, nn), facecolor=\"black\")\n",
    "plt.rcParams['axes.facecolor'] = 'black'\n",
    "plt.rcParams['figure.facecolor'] = 'black'\n",
    "for i in range(0, 31):\n",
    "    ax = plt.subplot(nn,31,i+1)\n",
    "    ax.set_xticklabels('')\n",
    "    ax.set_yticklabels('')\n",
    "    ax.xaxis.set_label_position('top')\n",
    "    ax.set_xlabel(str(i+1), color=\"w\", fontsize=30)\n",
    "\n",
    "for i in range(0, 12):\n",
    "    ax = plt.subplot(nn,31,1+(i*31))\n",
    "    ax.set_ylabel(calendar.month_name[i+1], color=\"w\", fontsize=30,\n",
    "                 rotation=0, ha=\"right\", va=\"center\")\n",
    "    \n",
    "for gpxdir, color in zip(gpxdirlist, colorlist):\n",
    "    gpxlist = sorted(glob.glob(os.path.join(gpxdir, \"*.gpx\")))\n",
    "    print(\"Directory {}: {}\".format(gpxdir, len(gpxlist)))\n",
    "    for gpxfile in gpxlist[:1]:\n",
    "        lon, lat, ele, date = read_gpx_coord(gpxfile)\n",
    "        daynum = (date.month-1) * 31 + date.day\n",
    "        ax = plt.subplot(nn,31,daynum)\n",
    "        # ax.patch.set_facecolor('black')\n",
    "        scat = plt.scatter(lon, lat, s=3, c=ele, vmin=0, vmax=1800.)\n",
    "        plt.xticks()\n",
    "        plt.yticks()\n",
    "        ax.set_xticklabels('')\n",
    "        ax.set_yticklabels('')\n",
    "        #plt.tick_params(axis='both', which='both', bottom='off', \n",
    "        #                top='off', labelbottom='off', right='off', \n",
    "        #                left='off', labelleft='off')\n",
    "        dlon = lon.max() - lon.min()\n",
    "        dlat = lat.max() - lat.min()\n",
    "        ratio = 0.1\n",
    "        plt.xlim(lon.min() - ratio * dlon, lon.max() + ratio * dlon)\n",
    "        plt.ylim(lat.min() - ratio * dlat, lat.max() + ratio * dlat)\n",
    "        ax.spines['left'].set_color(color)\n",
    "        ax.spines['left'].set_linewidth(2)\n",
    "        ax.spines['right'].set_color(color)\n",
    "        ax.spines['right'].set_linewidth(2)\n",
    "        ax.spines['top'].set_color(color)\n",
    "        ax.spines['top'].set_linewidth(2)\n",
    "        ax.spines['bottom'].set_color(color)\n",
    "        ax.spines['bottom'].set_linewidth(2)\n",
    "\n",
    "for i, col in enumerate(colorlist):\n",
    "    ii = i % 3\n",
    "    jj = i // 3\n",
    "    ax = plt.subplot(nn,31,(12+jj)*31+1+ii*8)\n",
    "    plt.xticks()\n",
    "    plt.yticks()\n",
    "    ax.set_xticklabels('')\n",
    "    ax.set_yticklabels('')\n",
    "    ax.spines['left'].set_color(col)\n",
    "    ax.spines['left'].set_linewidth(2)\n",
    "    ax.spines['right'].set_color(col)\n",
    "    ax.spines['right'].set_linewidth(2)\n",
    "    ax.spines['top'].set_color(col)\n",
    "    ax.spines['top'].set_linewidth(2)\n",
    "    ax.spines['bottom'].set_color(col)\n",
    "    ax.spines['bottom'].set_linewidth(2)\n",
    "    \n",
    "    ax = plt.subplot(nn,31,(12+jj)*31+ii*8+2)\n",
    "    plt.xticks()\n",
    "    plt.yticks()\n",
    "    ax.set_xticklabels('')\n",
    "    ax.set_yticklabels('')\n",
    "    ax.text(.5, .5, placelist[i], color=\"white\", fontsize=20)\n",
    "    \n",
    "ax = plt.subplot(nn,31,(12+1)*31+28)\n",
    "plt.colorbar(scat, cax=ax)\n",
    "    \n",
    "    \n",
    "plt.savefig(\"gpx_mosaic14\", dpi=300, facecolor=fig.get_facecolor(), \n",
    "            edgecolor='none', bbox_inches=\"tight\")\n",
    "#plt.show()\n",
    "plt.close()\n",
    "print(\"Done\")"
   ]
  },
  {
   "cell_type": "code",
   "execution_count": 52,
   "metadata": {},
   "outputs": [
    {
     "data": {
      "image/png": "[encoded data removed]",
      "text/plain": [
       "<matplotlib.figure.Figure at 0x7fca00441048>"
      ]
     },
     "metadata": {},
     "output_type": "display_data"
    }
   ],
   "source": [
    "ax = plt.subplot(111)\n",
    "plt.rcParams['axes.facecolor'] = 'black'\n",
    "plt.rcParams['figure.facecolor'] = 'black'\n",
    "plt.scatter(lon, lat, s=3, c=ele)\n",
    "plt.axis('off')\n",
    "plt.xlim(lon.min(), lon.max())\n",
    "plt.ylim(lat.min(), lat.max())\n",
    "ax.patch.set_facecolor('black')\n",
    "plt.show()\n",
    "plt.close()"
   ]
  }
 ],
 "metadata": {
  "@webio": {
   "lastCommId": "289F8CCEA60E4358ACF50C1B6065CC34",
   "lastKernelId": "9816aecf-a04a-4d1b-863a-b80b4e77ea32"
  },
  "kernelspec": {
   "display_name": "Diva-python3.6",
   "language": "python",
   "name": "diva-python3.6"
  },
  "language_info": {
   "codemirror_mode": {
    "name": "ipython",
    "version": 3
   },
   "file_extension": ".py",
   "mimetype": "text/x-python",
   "name": "python",
   "nbconvert_exporter": "python",
   "pygments_lexer": "ipython3",
   "version": "3.6.0"
  }
 },
 "nbformat": 4,
 "nbformat_minor": 2
}
